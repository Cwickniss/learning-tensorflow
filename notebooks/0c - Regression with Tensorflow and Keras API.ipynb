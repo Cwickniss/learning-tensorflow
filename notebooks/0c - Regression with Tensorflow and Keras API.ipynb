{
 "cells": [
  {
   "cell_type": "markdown",
   "metadata": {},
   "source": [
    "# Regression with Tensorflow 2.0 and Keras API\n",
    "Builds a non-linear regression with TensorFlow [code](../examples/regression/non_linear_regression.py)\n",
    "\n",
    "### Code Overview:\n",
    "1. Import libraries\n",
    "2. Generate data for training and testing \n",
    "3. Define Model\n",
    "4. Define Loss function\n",
    "5. Define Training procedure\n",
    "6. Run Model code \n",
    "    a. Train model\n",
    "    b. Test model\n",
    "7. Plot accuracy of results"
   ]
  },
  {
   "cell_type": "markdown",
   "metadata": {},
   "source": [
    "## Regression Example"
   ]
  },
  {
   "cell_type": "markdown",
   "metadata": {},
   "source": [
    "Import libraries"
   ]
  },
  {
   "cell_type": "code",
   "execution_count": 1,
   "metadata": {},
   "outputs": [],
   "source": [
    "import os\n",
    "os.environ['TF_CPP_MIN_LOG_LEVEL'] = '2'\n",
    "\n",
    "import math\n",
    "import numpy as np\n",
    "import matplotlib.pyplot as plt\n",
    "import tensorflow as tf\n",
    "from tensorflow.keras.layers import Dense"
   ]
  },
  {
   "cell_type": "markdown",
   "metadata": {},
   "source": [
    "Let's create a basic dataset"
   ]
  },
  {
   "cell_type": "code",
   "execution_count": 2,
   "metadata": {},
   "outputs": [
    {
     "data": {
      "text/plain": [
       "<matplotlib.collections.PathCollection at 0x7f47be6331d0>"
      ]
     },
     "execution_count": 2,
     "metadata": {},
     "output_type": "execute_result"
    },
    {
     "data": {
      "image/png": "[encoded data removed]",
      "text/plain": [
       "<Figure size 432x288 with 1 Axes>"
      ]
     },
     "metadata": {
      "needs_background": "light"
     },
     "output_type": "display_data"
    }
   ],
   "source": [
    "# Create dataset\n",
    "N = 400\n",
    "data = lambda: None\n",
    "data.x = np.linspace(-1, 1, N)\n",
    "data.y = (10 * np.exp(data.x) + 2 * np.random.rand(N)) / (10 * math.exp(1))\n",
    "plt.scatter(data.x, data.y)"
   ]
  },
  {
   "cell_type": "markdown",
   "metadata": {},
   "source": [
    "Set training parameters"
   ]
  },
  {
   "cell_type": "code",
   "execution_count": 3,
   "metadata": {},
   "outputs": [],
   "source": [
    "# Training Parameters\n",
    "num_epochs = 100"
   ]
  },
  {
   "cell_type": "markdown",
   "metadata": {},
   "source": [
    "Define model"
   ]
  },
  {
   "cell_type": "code",
   "execution_count": 4,
   "metadata": {},
   "outputs": [],
   "source": [
    "# Define Network\n",
    "model = tf.keras.models.Sequential([\n",
    "    Dense(256, activation=tf.nn.relu, input_shape=[1]),\n",
    "    Dense(256, activation=tf.nn.relu),\n",
    "    Dense(1)\n",
    "])"
   ]
  },
  {
   "cell_type": "markdown",
   "metadata": {},
   "source": [
    "Compile model"
   ]
  },
  {
   "cell_type": "code",
   "execution_count": 5,
   "metadata": {},
   "outputs": [
    {
     "name": "stdout",
     "output_type": "stream",
     "text": [
      "Model: \"sequential\"\n",
      "_________________________________________________________________\n",
      "Layer (type)                 Output Shape              Param #   \n",
      "=================================================================\n",
      "dense (Dense)                (None, 256)               512       \n",
      "_________________________________________________________________\n",
      "dense_1 (Dense)              (None, 256)               65792     \n",
      "_________________________________________________________________\n",
      "dense_2 (Dense)              (None, 1)                 257       \n",
      "=================================================================\n",
      "Total params: 66,561\n",
      "Trainable params: 66,561\n",
      "Non-trainable params: 0\n",
      "_________________________________________________________________\n"
     ]
    }
   ],
   "source": [
    "model.compile(optimizer='adam',\n",
    "              loss='mean_squared_error')\n",
    "model.summary()"
   ]
  },
  {
   "cell_type": "markdown",
   "metadata": {},
   "source": [
    "Train model"
   ]
  },
  {
   "cell_type": "code",
   "execution_count": 6,
   "metadata": {},
   "outputs": [
    {
     "name": "stdout",
     "output_type": "stream",
     "text": [
      "Train on 320 samples, validate on 80 samples\n",
      "Epoch 1/100\n",
      "320/320 [==============================] - 1s 2ms/sample - loss: 0.0772 - val_loss: 0.0041\n",
      "Epoch 2/100\n",
      "320/320 [==============================] - 0s 114us/sample - loss: 0.0166 - val_loss: 0.1440\n",
      "Epoch 3/100\n",
      "320/320 [==============================] - 0s 153us/sample - loss: 0.0060 - val_loss: 0.0019\n",
      "Epoch 4/100\n",
      "320/320 [==============================] - 0s 157us/sample - loss: 0.0017 - val_loss: 5.2227e-04\n",
      "Epoch 5/100\n",
      "320/320 [==============================] - 0s 155us/sample - loss: 6.6088e-04 - val_loss: 6.1439e-04\n",
      "Epoch 6/100\n",
      "320/320 [==============================] - 0s 163us/sample - loss: 6.2182e-04 - val_loss: 0.0027\n",
      "Epoch 7/100\n",
      "320/320 [==============================] - 0s 162us/sample - loss: 5.5471e-04 - val_loss: 6.8344e-04\n",
      "Epoch 8/100\n",
      "320/320 [==============================] - 0s 154us/sample - loss: 4.7960e-04 - val_loss: 8.8918e-04\n",
      "Epoch 9/100\n",
      "320/320 [==============================] - 0s 154us/sample - loss: 4.9501e-04 - val_loss: 8.5234e-04\n",
      "Epoch 10/100\n",
      "320/320 [==============================] - 0s 157us/sample - loss: 5.2429e-04 - val_loss: 0.0011\n",
      "Epoch 11/100\n",
      "320/320 [==============================] - 0s 158us/sample - loss: 4.6224e-04 - val_loss: 9.5142e-04\n",
      "Epoch 12/100\n",
      "320/320 [==============================] - 0s 152us/sample - loss: 4.8985e-04 - val_loss: 8.6305e-04\n",
      "Epoch 13/100\n",
      "320/320 [==============================] - 0s 151us/sample - loss: 4.9336e-04 - val_loss: 0.0011\n",
      "Epoch 14/100\n",
      "320/320 [==============================] - 0s 151us/sample - loss: 4.8130e-04 - val_loss: 8.9196e-04\n",
      "Epoch 15/100\n",
      "320/320 [==============================] - 0s 152us/sample - loss: 5.1359e-04 - val_loss: 9.7877e-04\n",
      "Epoch 16/100\n",
      "320/320 [==============================] - 0s 149us/sample - loss: 4.8045e-04 - val_loss: 0.0010\n",
      "Epoch 17/100\n",
      "320/320 [==============================] - 0s 155us/sample - loss: 4.6877e-04 - val_loss: 9.8348e-04\n",
      "Epoch 18/100\n",
      "320/320 [==============================] - 0s 164us/sample - loss: 4.7853e-04 - val_loss: 0.0010\n",
      "Epoch 19/100\n",
      "320/320 [==============================] - 0s 156us/sample - loss: 5.0106e-04 - val_loss: 9.4133e-04\n",
      "Epoch 20/100\n",
      "320/320 [==============================] - 0s 157us/sample - loss: 5.3613e-04 - val_loss: 9.6152e-04\n",
      "Epoch 21/100\n",
      "320/320 [==============================] - 0s 160us/sample - loss: 4.9365e-04 - val_loss: 0.0011\n",
      "Epoch 22/100\n",
      "320/320 [==============================] - 0s 156us/sample - loss: 4.7442e-04 - val_loss: 0.0011\n",
      "Epoch 23/100\n",
      "320/320 [==============================] - 0s 153us/sample - loss: 4.8114e-04 - val_loss: 0.0011\n",
      "Epoch 24/100\n",
      "320/320 [==============================] - 0s 156us/sample - loss: 5.4165e-04 - val_loss: 0.0012\n",
      "Epoch 25/100\n",
      "320/320 [==============================] - 0s 154us/sample - loss: 5.0626e-04 - val_loss: 0.0013\n",
      "Epoch 26/100\n",
      "320/320 [==============================] - 0s 157us/sample - loss: 5.0575e-04 - val_loss: 0.0011\n",
      "Epoch 27/100\n",
      "320/320 [==============================] - 0s 169us/sample - loss: 4.7043e-04 - val_loss: 9.1901e-04\n",
      "Epoch 28/100\n",
      "320/320 [==============================] - 0s 163us/sample - loss: 4.7122e-04 - val_loss: 9.3780e-04\n",
      "Epoch 29/100\n",
      "320/320 [==============================] - 0s 167us/sample - loss: 4.7646e-04 - val_loss: 0.0013\n",
      "Epoch 30/100\n",
      "320/320 [==============================] - 0s 159us/sample - loss: 4.7491e-04 - val_loss: 8.0009e-04\n",
      "Epoch 31/100\n",
      "320/320 [==============================] - 0s 159us/sample - loss: 4.8701e-04 - val_loss: 0.0014\n",
      "Epoch 32/100\n",
      "320/320 [==============================] - 0s 170us/sample - loss: 4.9433e-04 - val_loss: 7.8409e-04\n",
      "Epoch 33/100\n",
      "320/320 [==============================] - 0s 169us/sample - loss: 5.0442e-04 - val_loss: 8.9959e-04\n",
      "Epoch 34/100\n",
      "320/320 [==============================] - 0s 156us/sample - loss: 5.0160e-04 - val_loss: 0.0012\n",
      "Epoch 35/100\n",
      "320/320 [==============================] - 0s 163us/sample - loss: 5.0126e-04 - val_loss: 9.2366e-04\n",
      "Epoch 36/100\n",
      "320/320 [==============================] - 0s 165us/sample - loss: 4.6383e-04 - val_loss: 0.0010\n",
      "Epoch 37/100\n",
      "320/320 [==============================] - 0s 158us/sample - loss: 4.5527e-04 - val_loss: 0.0012\n",
      "Epoch 38/100\n",
      "320/320 [==============================] - 0s 163us/sample - loss: 4.7160e-04 - val_loss: 9.4593e-04\n",
      "Epoch 39/100\n",
      "320/320 [==============================] - 0s 159us/sample - loss: 4.8793e-04 - val_loss: 0.0012\n",
      "Epoch 40/100\n",
      "320/320 [==============================] - 0s 155us/sample - loss: 5.1955e-04 - val_loss: 9.7925e-04\n",
      "Epoch 41/100\n",
      "320/320 [==============================] - 0s 158us/sample - loss: 4.5714e-04 - val_loss: 0.0015\n",
      "Epoch 42/100\n",
      "320/320 [==============================] - 0s 170us/sample - loss: 5.1185e-04 - val_loss: 9.1493e-04\n",
      "Epoch 43/100\n",
      "320/320 [==============================] - 0s 160us/sample - loss: 4.7244e-04 - val_loss: 0.0012\n",
      "Epoch 44/100\n",
      "320/320 [==============================] - 0s 152us/sample - loss: 4.5766e-04 - val_loss: 8.2507e-04\n",
      "Epoch 45/100\n",
      "320/320 [==============================] - 0s 159us/sample - loss: 4.7688e-04 - val_loss: 0.0011\n",
      "Epoch 46/100\n",
      "320/320 [==============================] - 0s 157us/sample - loss: 4.6006e-04 - val_loss: 0.0017\n",
      "Epoch 47/100\n",
      "320/320 [==============================] - 0s 156us/sample - loss: 4.8253e-04 - val_loss: 6.9520e-04\n",
      "Epoch 48/100\n",
      "320/320 [==============================] - 0s 158us/sample - loss: 4.4889e-04 - val_loss: 0.0015\n",
      "Epoch 49/100\n",
      "320/320 [==============================] - 0s 159us/sample - loss: 4.5367e-04 - val_loss: 0.0010\n",
      "Epoch 50/100\n",
      "320/320 [==============================] - 0s 143us/sample - loss: 4.8770e-04 - val_loss: 0.0010\n",
      "Epoch 51/100\n",
      "320/320 [==============================] - 0s 151us/sample - loss: 4.5532e-04 - val_loss: 0.0011\n",
      "Epoch 52/100\n",
      "320/320 [==============================] - 0s 146us/sample - loss: 4.5371e-04 - val_loss: 0.0012\n",
      "Epoch 53/100\n",
      "320/320 [==============================] - 0s 147us/sample - loss: 4.8186e-04 - val_loss: 0.0011\n",
      "Epoch 54/100\n",
      "320/320 [==============================] - 0s 147us/sample - loss: 4.8831e-04 - val_loss: 0.0012\n",
      "Epoch 55/100\n",
      "320/320 [==============================] - 0s 157us/sample - loss: 4.8514e-04 - val_loss: 9.5140e-04\n",
      "Epoch 56/100\n",
      "320/320 [==============================] - 0s 151us/sample - loss: 4.7597e-04 - val_loss: 0.0019\n",
      "Epoch 57/100\n",
      "320/320 [==============================] - 0s 158us/sample - loss: 4.6937e-04 - val_loss: 8.1256e-04\n",
      "Epoch 58/100\n",
      "320/320 [==============================] - 0s 155us/sample - loss: 4.6046e-04 - val_loss: 0.0010\n",
      "Epoch 59/100\n",
      "320/320 [==============================] - 0s 150us/sample - loss: 4.7725e-04 - val_loss: 7.8477e-04\n",
      "Epoch 60/100\n",
      "320/320 [==============================] - 0s 151us/sample - loss: 4.9120e-04 - val_loss: 0.0017\n",
      "Epoch 61/100\n",
      "320/320 [==============================] - 0s 153us/sample - loss: 4.9521e-04 - val_loss: 0.0019\n",
      "Epoch 62/100\n",
      "320/320 [==============================] - 0s 158us/sample - loss: 4.9941e-04 - val_loss: 7.2252e-04\n",
      "Epoch 63/100\n",
      "320/320 [==============================] - 0s 161us/sample - loss: 5.3363e-04 - val_loss: 9.0120e-04\n",
      "Epoch 64/100\n",
      "320/320 [==============================] - 0s 156us/sample - loss: 5.2596e-04 - val_loss: 0.0024\n",
      "Epoch 65/100\n",
      "320/320 [==============================] - 0s 161us/sample - loss: 5.7217e-04 - val_loss: 0.0012\n",
      "Epoch 66/100\n",
      "320/320 [==============================] - 0s 157us/sample - loss: 5.5174e-04 - val_loss: 0.0013\n",
      "Epoch 67/100\n",
      "320/320 [==============================] - 0s 159us/sample - loss: 5.2418e-04 - val_loss: 9.6051e-04\n",
      "Epoch 68/100\n",
      "320/320 [==============================] - 0s 154us/sample - loss: 5.7900e-04 - val_loss: 0.0011\n",
      "Epoch 69/100\n",
      "320/320 [==============================] - 0s 157us/sample - loss: 4.9362e-04 - val_loss: 0.0012\n",
      "Epoch 70/100\n",
      "320/320 [==============================] - 0s 161us/sample - loss: 4.8833e-04 - val_loss: 0.0016\n",
      "Epoch 71/100\n",
      "320/320 [==============================] - 0s 156us/sample - loss: 4.4545e-04 - val_loss: 9.8938e-04\n",
      "Epoch 72/100\n",
      "320/320 [==============================] - 0s 177us/sample - loss: 4.5675e-04 - val_loss: 0.0016\n",
      "Epoch 73/100\n",
      "320/320 [==============================] - 0s 165us/sample - loss: 4.4567e-04 - val_loss: 6.9098e-04\n",
      "Epoch 74/100\n"
     ]
    },
    {
     "name": "stdout",
     "output_type": "stream",
     "text": [
      "320/320 [==============================] - 0s 156us/sample - loss: 5.2568e-04 - val_loss: 0.0013\n",
      "Epoch 75/100\n",
      "320/320 [==============================] - 0s 158us/sample - loss: 4.9513e-04 - val_loss: 0.0015\n",
      "Epoch 76/100\n",
      "320/320 [==============================] - 0s 154us/sample - loss: 5.1221e-04 - val_loss: 0.0013\n",
      "Epoch 77/100\n",
      "320/320 [==============================] - 0s 148us/sample - loss: 5.0396e-04 - val_loss: 9.3571e-04\n",
      "Epoch 78/100\n",
      "320/320 [==============================] - 0s 159us/sample - loss: 4.9962e-04 - val_loss: 8.4033e-04\n",
      "Epoch 79/100\n",
      "320/320 [==============================] - 0s 151us/sample - loss: 5.1969e-04 - val_loss: 0.0015\n",
      "Epoch 80/100\n",
      "320/320 [==============================] - 0s 157us/sample - loss: 5.6723e-04 - val_loss: 0.0017\n",
      "Epoch 81/100\n",
      "320/320 [==============================] - 0s 158us/sample - loss: 5.1441e-04 - val_loss: 0.0013\n",
      "Epoch 82/100\n",
      "320/320 [==============================] - 0s 160us/sample - loss: 4.9459e-04 - val_loss: 0.0010\n",
      "Epoch 83/100\n",
      "320/320 [==============================] - 0s 157us/sample - loss: 4.9200e-04 - val_loss: 0.0024\n",
      "Epoch 84/100\n",
      "320/320 [==============================] - 0s 155us/sample - loss: 4.9710e-04 - val_loss: 0.0014\n",
      "Epoch 85/100\n",
      "320/320 [==============================] - 0s 158us/sample - loss: 4.6709e-04 - val_loss: 0.0011\n",
      "Epoch 86/100\n",
      "320/320 [==============================] - 0s 157us/sample - loss: 4.6342e-04 - val_loss: 0.0013\n",
      "Epoch 87/100\n",
      "320/320 [==============================] - 0s 155us/sample - loss: 4.6996e-04 - val_loss: 0.0022\n",
      "Epoch 88/100\n",
      "320/320 [==============================] - 0s 152us/sample - loss: 4.9746e-04 - val_loss: 6.8635e-04\n",
      "Epoch 89/100\n",
      "320/320 [==============================] - 0s 154us/sample - loss: 5.7267e-04 - val_loss: 8.8120e-04\n",
      "Epoch 90/100\n",
      "320/320 [==============================] - 0s 155us/sample - loss: 4.9368e-04 - val_loss: 0.0020\n",
      "Epoch 91/100\n",
      "320/320 [==============================] - 0s 156us/sample - loss: 4.4431e-04 - val_loss: 7.7545e-04\n",
      "Epoch 92/100\n",
      "320/320 [==============================] - 0s 160us/sample - loss: 5.2439e-04 - val_loss: 0.0012\n",
      "Epoch 93/100\n",
      "320/320 [==============================] - 0s 159us/sample - loss: 5.3396e-04 - val_loss: 0.0022\n",
      "Epoch 94/100\n",
      "320/320 [==============================] - 0s 168us/sample - loss: 5.9803e-04 - val_loss: 7.2407e-04\n",
      "Epoch 95/100\n",
      "320/320 [==============================] - 0s 147us/sample - loss: 6.0550e-04 - val_loss: 0.0015\n",
      "Epoch 96/100\n",
      "320/320 [==============================] - 0s 156us/sample - loss: 5.7814e-04 - val_loss: 0.0016\n",
      "Epoch 97/100\n",
      "320/320 [==============================] - 0s 158us/sample - loss: 4.7321e-04 - val_loss: 8.6771e-04\n",
      "Epoch 98/100\n",
      "320/320 [==============================] - 0s 158us/sample - loss: 4.5634e-04 - val_loss: 0.0027\n",
      "Epoch 99/100\n",
      "320/320 [==============================] - 0s 156us/sample - loss: 4.8495e-04 - val_loss: 0.0018\n",
      "Epoch 100/100\n",
      "320/320 [==============================] - 0s 157us/sample - loss: 5.2397e-04 - val_loss: 9.2338e-04\n"
     ]
    }
   ],
   "source": [
    "history = model.fit(data.x, data.y, epochs=num_epochs, validation_split=0.2, shuffle=True)"
   ]
  },
  {
   "cell_type": "markdown",
   "metadata": {},
   "source": [
    "Test model"
   ]
  },
  {
   "cell_type": "code",
   "execution_count": 7,
   "metadata": {},
   "outputs": [],
   "source": [
    "predictions = model.predict(data.x)"
   ]
  },
  {
   "cell_type": "markdown",
   "metadata": {},
   "source": [
    "Plot results"
   ]
  },
  {
   "cell_type": "code",
   "execution_count": 8,
   "metadata": {},
   "outputs": [
    {
     "data": {
      "image/png": "[encoded data removed]",
      "text/plain": [
       "<Figure size 432x288 with 1 Axes>"
      ]
     },
     "metadata": {
      "needs_background": "light"
     },
     "output_type": "display_data"
    }
   ],
   "source": [
    "# Plot Results\n",
    "plt.scatter(data.x, data.y)\n",
    "plt.plot(data.x, predictions, 'r')\n",
    "plt.show()"
   ]
  }
 ],
 "metadata": {
  "kernelspec": {
   "display_name": "Python 3",
   "language": "python",
   "name": "python3"
  },
  "language_info": {
   "codemirror_mode": {
    "name": "ipython",
    "version": 3
   },
   "file_extension": ".py",
   "mimetype": "text/x-python",
   "name": "python",
   "nbconvert_exporter": "python",
   "pygments_lexer": "ipython3",
   "version": "3.6.9"
  }
 },
 "nbformat": 4,
 "nbformat_minor": 2
}
