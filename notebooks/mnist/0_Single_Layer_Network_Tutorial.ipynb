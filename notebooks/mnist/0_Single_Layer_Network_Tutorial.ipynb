{
 "cells": [
  {
   "cell_type": "markdown",
   "metadata": {},
   "source": [
    "# Single Layer Neural Network Example\n",
    "\n",
    "Builds a simple neural network with TensorFlow ([code](https://github.com/michaelmendoza/learning-tensorflow/blob/master/examples/mnist/basic-net.py))\n",
    "\n",
    "### MNIST Dataset Overview\n",
    "\n",
    "The MNIST database is a large dataset of handwritten digits used for training image processing algorthms. This data set has 50,000 training example images, and 10,000 testing images. Each image has been flatted from an array of size (28,28) to a 1-D numpy array with 784 features (28 * 28). \n",
    "\n",
    "### Code Overview\n",
    "\n",
    "1. Import Libraries\n",
    "2. Load Data\n",
    "3. Create Tensorflow Computation Graph:\n",
    "    1. Create Network Varibles and Placeholders\n",
    "    2. Create Network Architecture\n",
    "    3. Define Loss Function and Optimizer\n",
    "    4. Create Model Evalution Function\n",
    "4. Run Tensorflow Computation Graph\n",
    "    1. Initize TF Session\n",
    "    2. Train Network\n",
    "    3. Test Network\n",
    "5. Plot Accuracy Results"
   ]
  },
  {
   "cell_type": "markdown",
   "metadata": {},
   "source": [
    "### Example Code"
   ]
  },
  {
   "cell_type": "markdown",
   "metadata": {},
   "source": [
    "Import necessary libraries:"
   ]
  },
  {
   "cell_type": "code",
   "execution_count": 2,
   "metadata": {
    "collapsed": true
   },
   "outputs": [],
   "source": [
    "from __future__ import absolute_import\n",
    "from __future__ import division\n",
    "from __future__ import print_function\n",
    "\n",
    "import tensorflow as tf\n",
    "import matplotlib.pyplot as plt\n",
    "import os\n",
    "os.environ['TF_CPP_MIN_LOG_LEVEL'] = '2'"
   ]
  },
  {
   "cell_type": "markdown",
   "metadata": {},
   "source": [
    "Next using tensorflow api we can download and load the MNIST data set:"
   ]
  },
  {
   "cell_type": "code",
   "execution_count": 3,
   "metadata": {
    "collapsed": false
   },
   "outputs": [
    {
     "name": "stdout",
     "output_type": "stream",
     "text": [
      "Extracting MNIST_data/train-images-idx3-ubyte.gz\n",
      "Extracting MNIST_data/train-labels-idx1-ubyte.gz\n",
      "Extracting MNIST_data/t10k-images-idx3-ubyte.gz\n",
      "Extracting MNIST_data/t10k-labels-idx1-ubyte.gz\n"
     ]
    }
   ],
   "source": [
    "# Import Dataset\n",
    "from tensorflow.examples.tutorials.mnist import input_data\n",
    "mnist = input_data.read_data_sets(\"MNIST_data/\", one_hot=True)"
   ]
  },
  {
   "cell_type": "markdown",
   "metadata": {},
   "source": [
    "Set training parameter's and network paramters:"
   ]
  },
  {
   "cell_type": "code",
   "execution_count": 4,
   "metadata": {
    "collapsed": true
   },
   "outputs": [],
   "source": [
    "# Training Parameters\n",
    "learning_rate = 0.1\n",
    "num_steps = 5000\n",
    "batch_size = 128\n",
    "display_step = 100\n",
    "\n",
    "# Network Parameters\n",
    "NUM_INPUTS = 784\n",
    "NUM_OUTPUTS = 10"
   ]
  },
  {
   "cell_type": "markdown",
   "metadata": {},
   "source": [
    "Create Network Varibles and Placeholders:"
   ]
  },
  {
   "cell_type": "code",
   "execution_count": 5,
   "metadata": {
    "collapsed": true
   },
   "outputs": [],
   "source": [
    "# Network Varibles and placeholders\n",
    "x = tf.placeholder(tf.float32, [None, NUM_INPUTS])   # Input\n",
    "y_ = tf.placeholder(tf.float32, [None, NUM_OUTPUTS]) # Truth Data - Output\n",
    "W = tf.Variable(tf.zeros([NUM_INPUTS, NUM_OUTPUTS])) # Weights for layer\n",
    "b = tf.Variable(tf.zeros([NUM_OUTPUTS]))             # Bias for layer"
   ]
  },
  {
   "cell_type": "markdown",
   "metadata": {},
   "source": [
    "Create Network Architecture:"
   ]
  },
  {
   "cell_type": "code",
   "execution_count": 6,
   "metadata": {
    "collapsed": true
   },
   "outputs": [],
   "source": [
    "# Network Architecture - Single Layer Perception with Softmax Activation Function\n",
    "y = tf.nn.softmax(tf.matmul(x, W) + b)"
   ]
  },
  {
   "cell_type": "markdown",
   "metadata": {},
   "source": [
    "Define Loss Function and Optimizer:"
   ]
  },
  {
   "cell_type": "code",
   "execution_count": 7,
   "metadata": {
    "collapsed": true
   },
   "outputs": [],
   "source": [
    "# Define loss and optimizer\n",
    "cross_entropy = tf.reduce_mean(-tf.reduce_sum(y_ * tf.log(y), reduction_indices=[1])) # Loss \n",
    "optimizer = tf.train.GradientDescentOptimizer(learning_rate)\n",
    "trainer = optimizer.minimize(cross_entropy)"
   ]
  },
  {
   "cell_type": "markdown",
   "metadata": {},
   "source": [
    "Create a Metric to Evalute Model Accuracy:"
   ]
  },
  {
   "cell_type": "code",
   "execution_count": 8,
   "metadata": {
    "collapsed": true
   },
   "outputs": [],
   "source": [
    "# Evaluate model accuracy\n",
    "correct_prediction = tf.equal(tf.argmax(y,1), tf.argmax(y_,1))\n",
    "accuracy = tf.reduce_mean(tf.cast(correct_prediction, tf.float32))"
   ]
  },
  {
   "cell_type": "markdown",
   "metadata": {},
   "source": [
    "Initalize Tensorflow Session:"
   ]
  },
  {
   "cell_type": "code",
   "execution_count": 9,
   "metadata": {
    "collapsed": true
   },
   "outputs": [],
   "source": [
    "# Initalize varibles, and run network\n",
    "init = tf.global_variables_initializer()\n",
    "sess = tf.Session()\n",
    "sess.run(init)"
   ]
  },
  {
   "cell_type": "markdown",
   "metadata": {},
   "source": [
    "Train and Test Network:"
   ]
  },
  {
   "cell_type": "code",
   "execution_count": 10,
   "metadata": {
    "collapsed": false
   },
   "outputs": [
    {
     "name": "stdout",
     "output_type": "stream",
     "text": [
      "Step: 0 Test Accuracy: 0.2272\n",
      "Step: 100 Test Accuracy: 0.8644\n",
      "Step: 200 Test Accuracy: 0.8843\n",
      "Step: 300 Test Accuracy: 0.8927\n",
      "Step: 400 Test Accuracy: 0.898\n",
      "Step: 500 Test Accuracy: 0.9011\n",
      "Step: 600 Test Accuracy: 0.9035\n",
      "Step: 700 Test Accuracy: 0.906\n",
      "Step: 800 Test Accuracy: 0.9072\n",
      "Step: 900 Test Accuracy: 0.9082\n",
      "Step: 1000 Test Accuracy: 0.9092\n",
      "Step: 1100 Test Accuracy: 0.9104\n",
      "Step: 1200 Test Accuracy: 0.9123\n",
      "Step: 1300 Test Accuracy: 0.914\n",
      "Step: 1400 Test Accuracy: 0.9135\n",
      "Step: 1500 Test Accuracy: 0.9146\n",
      "Step: 1600 Test Accuracy: 0.9162\n",
      "Step: 1700 Test Accuracy: 0.9138\n",
      "Step: 1800 Test Accuracy: 0.9145\n",
      "Step: 1900 Test Accuracy: 0.9152\n",
      "Step: 2000 Test Accuracy: 0.9168\n",
      "Step: 2100 Test Accuracy: 0.9161\n",
      "Step: 2200 Test Accuracy: 0.9164\n",
      "Step: 2300 Test Accuracy: 0.9173\n",
      "Step: 2400 Test Accuracy: 0.9174\n",
      "Step: 2500 Test Accuracy: 0.9195\n",
      "Step: 2600 Test Accuracy: 0.9192\n",
      "Step: 2700 Test Accuracy: 0.9179\n",
      "Step: 2800 Test Accuracy: 0.9183\n",
      "Step: 2900 Test Accuracy: 0.918\n",
      "Step: 3000 Test Accuracy: 0.9182\n",
      "Step: 3100 Test Accuracy: 0.9203\n",
      "Step: 3200 Test Accuracy: 0.9192\n",
      "Step: 3300 Test Accuracy: 0.9204\n",
      "Step: 3400 Test Accuracy: 0.919\n",
      "Step: 3500 Test Accuracy: 0.9192\n",
      "Step: 3600 Test Accuracy: 0.9187\n",
      "Step: 3700 Test Accuracy: 0.9197\n",
      "Step: 3800 Test Accuracy: 0.9202\n",
      "Step: 3900 Test Accuracy: 0.9196\n",
      "Step: 4000 Test Accuracy: 0.9198\n",
      "Step: 4100 Test Accuracy: 0.9209\n",
      "Step: 4200 Test Accuracy: 0.9209\n",
      "Step: 4300 Test Accuracy: 0.92\n",
      "Step: 4400 Test Accuracy: 0.9201\n",
      "Step: 4500 Test Accuracy: 0.9213\n",
      "Step: 4600 Test Accuracy: 0.9222\n",
      "Step: 4700 Test Accuracy: 0.9209\n",
      "Step: 4800 Test Accuracy: 0.9222\n",
      "Step: 4900 Test Accuracy: 0.9215\n"
     ]
    }
   ],
   "source": [
    "# Train network\n",
    "_step = []\n",
    "_acc = []\n",
    "for step in range(num_steps):\n",
    "    batch_xs, batch_ys = mnist.train.next_batch(batch_size)\n",
    "    sess.run( trainer, feed_dict={x: batch_xs, y_: batch_ys} )\n",
    "\n",
    "    if(step % display_step == 0):\n",
    "      acc = sess.run(accuracy, feed_dict={x: mnist.test.images, y_:mnist.test.labels})\n",
    "\n",
    "      _step.append(step)\n",
    "      _acc.append(acc)\n",
    "      print(\"Step: \" + str(step) + \" Test Accuracy: \" + str(acc)) "
   ]
  },
  {
   "cell_type": "markdown",
   "metadata": {},
   "source": [
    "Plot Accuracy Results:"
   ]
  },
  {
   "cell_type": "code",
   "execution_count": 11,
   "metadata": {
    "collapsed": false
   },
   "outputs": [
    {
     "data": {
      "image/png": "[encoded data removed]",
      "text/plain": [
       "<matplotlib.figure.Figure at 0x181c6ca390>"
      ]
     },
     "metadata": {},
     "output_type": "display_data"
    }
   ],
   "source": [
    "%matplotlib inline\n",
    "\n",
    "# Plot Accuracy\n",
    "plt.plot(_step, _acc, label=\"test accuracy\")\n",
    "plt.xlabel(\"Steps\")\n",
    "plt.ylabel(\"Accuracy\")\n",
    "plt.title(\"Accuracy for MINST Classification\")\n",
    "plt.show()"
   ]
  },
  {
   "cell_type": "markdown",
   "metadata": {},
   "source": [
    "Congrats!! You have gotten 90% test accuracy with a single layered perception"
   ]
  }
 ],
 "metadata": {
  "kernelspec": {
   "display_name": "Python 2",
   "language": "python",
   "name": "python2"
  },
  "language_info": {
   "codemirror_mode": {
    "name": "ipython",
    "version": 2
   },
   "file_extension": ".py",
   "mimetype": "text/x-python",
   "name": "python",
   "nbconvert_exporter": "python",
   "pygments_lexer": "ipython2",
   "version": "2.7.12"
  }
 },
 "nbformat": 4,
 "nbformat_minor": 0
}
