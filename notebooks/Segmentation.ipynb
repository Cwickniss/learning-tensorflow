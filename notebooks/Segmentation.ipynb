{
 "cells": [
  {
   "cell_type": "markdown",
   "metadata": {},
   "source": [
    "# Segmentation Network Example\n",
    "\n",
    "Builds a unet segmentation neural network with TensorFlow 2.0 eager execution ([code](../examples/color/segmentation.py))\n",
    "\n",
    "### Code Overview:\n",
    "1. Import libraries\n",
    "2. Import data for training and testing \n",
    "3. Define Model\n",
    "4. Define Loss function\n",
    "5. Define Training procedure\n",
    "6. Run Model code \n",
    "    a. Train model\n",
    "    b. Test model\n",
    "7. Plot accuracy of results\n",
    "\n",
    "## Example Code\n",
    "\n",
    "import libraries"
   ]
  },
  {
   "cell_type": "code",
   "execution_count": 1,
   "metadata": {},
   "outputs": [],
   "source": [
    "from __future__ import absolute_import, division, print_function\n",
    "import os\n",
    "os.environ['TF_CPP_MIN_LOG_LEVEL'] = '2'\n",
    "\n",
    "import numpy as np\n",
    "import tensorflow as tf \n",
    "from tensorflow import keras\n",
    "from tensorflow.keras.layers import Conv2D, Conv2DTranspose, MaxPooling2D, Flatten, Dense, Dropout, BatchNormalization, concatenate\n",
    "import matplotlib\n",
    "import matplotlib.pyplot as plt"
   ]
  },
  {
   "cell_type": "markdown",
   "metadata": {},
   "source": [
    "Define DataGenerator"
   ]
  },
  {
   "cell_type": "code",
   "execution_count": 2,
   "metadata": {},
   "outputs": [],
   "source": [
    "import numpy as np\n",
    "import matplotlib.pyplot as plt\n",
    "import math\n",
    "import cairo\n",
    "\n",
    "WIDTH = 128\n",
    "HEIGHT = 128\n",
    "CHANNELS = 3\n",
    "\n",
    "class DataGenerator:\n",
    "\n",
    "    def __init__(self):\n",
    "        self.size = 1000\n",
    "        self.ratio = 0.8\n",
    "        self.threshold = [128, 0, 0]\n",
    "\n",
    "        self.WIDTH = WIDTH\n",
    "        self.HEIGHT = HEIGHT\n",
    "        self.CHANNELS = CHANNELS\n",
    "\n",
    "        self.generate();\n",
    "\n",
    "    def generate_image(self):\n",
    "        ''' Randomly generates an image with random boxes '''    \n",
    "\n",
    "        data = np.zeros( (HEIGHT,WIDTH, 4), dtype=np.uint8 ) \n",
    "        surface = cairo.ImageSurface.create_for_data( data, cairo.FORMAT_ARGB32, WIDTH, HEIGHT )\n",
    "        ctx = cairo.Context( surface )\n",
    "\n",
    "        ctx.scale (WIDTH, HEIGHT) # Normalizing the canvas\n",
    "        ctx.set_source_rgb(0, 0, 0)\n",
    "        ctx.rectangle (0, 0, 1, 1)  # Rectangle(x0, y0, x1, y1) \n",
    "        ctx.fill()\n",
    "\n",
    "        # Create random colored boxes\n",
    "        for _ in range(50):\n",
    "            rc = np.random.rand(3)\n",
    "            ctx.set_source_rgb(rc[0], rc[1], rc[2])\n",
    "\n",
    "            r = np.random.rand(2)\n",
    "            ctx.translate (r[0], r[1])      # Changing the current transformation matrix\n",
    "            ctx.rectangle (0, 0, 0.1, 0.1)  # Rectangle(x0, y0, x1, y1)\n",
    "            ctx.fill()\n",
    "            ctx.translate (-r[0], -r[1])    # Changing the current transformation matrix\n",
    "\n",
    "        # Create a randomly placed red box\n",
    "        ctx.set_source_rgb(0, 0, 1)\n",
    "        r = np.random.rand(2)\n",
    "        ctx.translate (r[0], r[1])      # Changing the current transformation matrix\n",
    "        ctx.rectangle (0, 0, 0.1, 0.1)  # Rectangle(x0, y0, x1, y1)\n",
    "        ctx.fill()\n",
    "        ctx.translate (-r[0], -r[1])\n",
    "\n",
    "        img = data[:,:,0:3]\n",
    "        return img;\n",
    "\n",
    "    def whiten_data(self, features):\n",
    "        \"\"\" whiten dataset - zero mean and unit standard deviation \"\"\"\n",
    "        features = np.reshape(features, (self.size, WIDTH * HEIGHT * CHANNELS))\n",
    "        features = (np.swapaxes(features,0,1) - np.mean(features, axis=1)) / np.std(features, axis=1)\n",
    "        features = np.swapaxes(features,0,1)\n",
    "        features = np.reshape(features, (self.size, WIDTH, HEIGHT, CHANNELS))\n",
    "        #features = (features - np.mean(features, axis=0)) / np.std(features, axis=0)\n",
    "        return features\n",
    "\n",
    "    def unwhiten_img(self, img): \n",
    "        \"\"\" remove whitening for a single image \"\"\" \n",
    "        img = np.reshape(img, (WIDTH * HEIGHT * CHANNELS))\n",
    "        img = (img - np.min(img)) / (np.max(img) - np.min(img)) \n",
    "        img = np.reshape(img, (WIDTH, HEIGHT, CHANNELS))\n",
    "        return img\n",
    "\n",
    "    def generate(self):\n",
    "        ''' Generates a randomly generated dataset '''\n",
    "        img = self.generate_image()\n",
    "        self.data = np.stack( (img, self.generate_image()))\n",
    "        for _ in range(self.size - 2):\n",
    "            img = self.generate_image()\n",
    "            self.data = np.concatenate( (self.data, img[None,:]), axis=0)\n",
    "        \n",
    "        # Generate truth data\n",
    "        self.label = np.all(np.greater_equal(self.data, self.threshold), axis=3) * 1.0;\n",
    "        self.label = np.reshape(self.label, (self.size, WIDTH, HEIGHT, 1))\n",
    "        self.label = np.concatenate( (1 - self.label, self.label), axis=3) # Index 0: Incorrect, Index 1: Correct\n",
    "\n",
    "        # Setup data \n",
    "        self.data = self.whiten_data(self.data)\n",
    "\n",
    "        # Split data into test/training sets\n",
    "        index = int(self.ratio * len(self.data)) # Split index\n",
    "        self.x_train = self.data[0:index, :].astype(np.float32)\n",
    "        self.y_train = self.label[0:index].astype(np.float32)\n",
    "        self.x_test = self.data[index:,:].astype(np.float32)\n",
    "        self.y_test = self.label[index:].astype(np.float32)\n",
    "    \n",
    "        # Data lengths\n",
    "        self.train_length = self.x_train.shape[0]\n",
    "        self.test_length = self.x_test.shape[0]\n",
    "\n",
    "    def show(self, index):\n",
    "        ''' Show a data slice at index'''\n",
    "        img = self.unwhiten_img( self.data[index] )\n",
    "        plt.imshow(img)\n",
    "        plt.show()\n",
    "\n",
    "    def show_label(self, index):\n",
    "        ''' Show a truth data slice at index'''\n",
    "        img = self.label[index]\n",
    "        plt.imshow(img[:,:,0], cmap='gray')\n",
    "        plt.show()  \n",
    "        plt.imshow(img[:,:,1], cmap='gray')\n",
    "        plt.show()  \n",
    "\n",
    "    def print(self):\n",
    "        print(\"Data Split: \", self.ratio)\n",
    "        print(\"Train => x:\", self.x_train.shape, \" y:\", self.y_train.shape)\n",
    "        print(\"Test  => x:\", self.x_test.shape, \" y:\", self.y_test.shape)\n",
    "\n",
    "    def next_batch(self, batch_size):\n",
    "        ''' Retrieves the next batch for a given batch size '''\n",
    "        length = self.x_train.shape[0]\n",
    "        indices = np.random.randint(0, length, batch_size) # Grab batch_size values randomly\n",
    "        return [self.x_train[indices], self.y_train[indices]]\n",
    "\n",
    "    def batch_count(self, batch_size):\n",
    "        return math.floor(self.train_length / batch_size)\n"
   ]
  },
  {
   "cell_type": "markdown",
   "metadata": {},
   "source": [
    "Generate Dataset"
   ]
  },
  {
   "cell_type": "code",
   "execution_count": 3,
   "metadata": {},
   "outputs": [
    {
     "name": "stdout",
     "output_type": "stream",
     "text": [
      "Data Split:  0.8\n",
      "Train => x: (800, 128, 128, 3)  y: (800, 128, 128, 2)\n",
      "Test  => x: (200, 128, 128, 3)  y: (200, 128, 128, 2)\n"
     ]
    }
   ],
   "source": [
    "# Generate Dataset\n",
    "data = DataGenerator()\n",
    "data.print()"
   ]
  },
  {
   "cell_type": "markdown",
   "metadata": {},
   "source": [
    "Set Training and Network Parameters"
   ]
  },
  {
   "cell_type": "code",
   "execution_count": 4,
   "metadata": {},
   "outputs": [],
   "source": [
    "# Training Parameters\n",
    "num_epochs = 10\n",
    "display_step = 1\n",
    "batch_size = 16\n",
    "\n",
    "# Network Parameters\n",
    "WIDTH = data.WIDTH; HEIGHT = data.HEIGHT; CHANNELS = data.CHANNELS\n",
    "NUM_INPUTS = WIDTH * HEIGHT * CHANNELS\n",
    "NUM_OUTPUTS = 2"
   ]
  },
  {
   "cell_type": "markdown",
   "metadata": {},
   "source": [
    "Define Model"
   ]
  },
  {
   "cell_type": "code",
   "execution_count": 5,
   "metadata": {},
   "outputs": [],
   "source": [
    "# Unet Model Architecture\n",
    "def Model():\n",
    "\n",
    "    def down_block(x, filters):\n",
    "        x = Conv2D(filters, (3, 3), padding=\"same\", activation=tf.nn.relu, kernel_initializer='he_normal')(x)\n",
    "        x = Conv2D(filters, (3, 3), padding=\"same\", activation=tf.nn.relu, kernel_initializer='he_normal')(x)\n",
    "        x = BatchNormalization(axis=-1, momentum=0.95, epsilon=0.001)(x)\n",
    "        #x = Dropout(rate=0.0)(x)\n",
    "        return x\n",
    "\n",
    "    def max_pool(x):\n",
    "        return MaxPooling2D(padding=\"same\", strides=(2, 2), pool_size=(2, 2))(x)\n",
    "\n",
    "    def up_block(x, filters, skip_connect):\n",
    "        x = Conv2DTranspose(filters, (3, 3), strides=2, padding=\"same\", activation=tf.nn.relu)(x)\n",
    "        x = concatenate([x, skip_connect], axis=3)\n",
    "        x = Conv2D(filters, (3, 3), padding=\"same\", activation=tf.nn.relu, kernel_initializer='he_normal')(x)\n",
    "        x = Conv2D(filters, (3, 3), padding=\"same\", activation=tf.nn.relu, kernel_initializer='he_normal')(x)\n",
    "        x = BatchNormalization(axis=-1, momentum=0.95, epsilon=0.001)(x)\n",
    "        #x = Dropout(rate=0.0)(x)\n",
    "        return x \n",
    "\n",
    "    def unet():\n",
    "        fn = [32, 64, 128, 256, 512]\n",
    "        fdepth = len(fn)\n",
    "\n",
    "        x_stack = []\n",
    "        xin = keras.Input(shape=(HEIGHT, WIDTH, CHANNELS), name='img')\n",
    "\n",
    "        x = xin\n",
    "        for idx in range(fdepth):\n",
    "            x = down_block(x, fn[idx])\n",
    "\n",
    "            if(idx < fdepth - 1):\n",
    "                x_stack.append(x)\n",
    "                x = max_pool(x)\n",
    "\n",
    "        for idx in range(fdepth - 1):\n",
    "            idx = fdepth - idx - 2\n",
    "            x = up_block(x, fn[idx], x_stack.pop())\n",
    "\n",
    "        xout = Conv2D(NUM_OUTPUTS, (1, 1), padding=\"same\", activation=tf.nn.softmax)(x)\n",
    "        return tf.keras.Model(inputs=xin, outputs=xout)\n",
    "\n",
    "    return unet()"
   ]
  },
  {
   "cell_type": "markdown",
   "metadata": {},
   "source": [
    "Define Train"
   ]
  },
  {
   "cell_type": "code",
   "execution_count": 6,
   "metadata": {},
   "outputs": [],
   "source": [
    "@tf.function\n",
    "def train(model, inputs, outputs):\n",
    "    with tf.GradientTape() as tape:\n",
    "        predictions = model(inputs, training=True)\n",
    "        loss_value = loss(predictions, outputs)\n",
    "    grads = tape.gradient(loss_value, model.variables)\n",
    "    optimizer.apply_gradients(zip(grads, model.variables))\n",
    "    train_loss(loss_value)"
   ]
  },
  {
   "cell_type": "markdown",
   "metadata": {},
   "source": [
    "Define Test"
   ]
  },
  {
   "cell_type": "code",
   "execution_count": 7,
   "metadata": {},
   "outputs": [],
   "source": [
    "@tf.function\n",
    "def test(model, inputs, outputs):\n",
    "    predictions = model(inputs)\n",
    "    test_accuracy(outputs, predictions)"
   ]
  },
  {
   "cell_type": "markdown",
   "metadata": {},
   "source": [
    "Set Losses and Optimizers "
   ]
  },
  {
   "cell_type": "code",
   "execution_count": 8,
   "metadata": {},
   "outputs": [
    {
     "name": "stdout",
     "output_type": "stream",
     "text": [
      "Model: \"model\"\n",
      "__________________________________________________________________________________________________\n",
      "Layer (type)                    Output Shape         Param #     Connected to                     \n",
      "==================================================================================================\n",
      "img (InputLayer)                [(None, 128, 128, 3) 0                                            \n",
      "__________________________________________________________________________________________________\n",
      "conv2d (Conv2D)                 (None, 128, 128, 32) 896         img[0][0]                        \n",
      "__________________________________________________________________________________________________\n",
      "conv2d_1 (Conv2D)               (None, 128, 128, 32) 9248        conv2d[0][0]                     \n",
      "__________________________________________________________________________________________________\n",
      "batch_normalization (BatchNorma (None, 128, 128, 32) 128         conv2d_1[0][0]                   \n",
      "__________________________________________________________________________________________________\n",
      "max_pooling2d (MaxPooling2D)    (None, 64, 64, 32)   0           batch_normalization[0][0]        \n",
      "__________________________________________________________________________________________________\n",
      "conv2d_2 (Conv2D)               (None, 64, 64, 64)   18496       max_pooling2d[0][0]              \n",
      "__________________________________________________________________________________________________\n",
      "conv2d_3 (Conv2D)               (None, 64, 64, 64)   36928       conv2d_2[0][0]                   \n",
      "__________________________________________________________________________________________________\n",
      "batch_normalization_1 (BatchNor (None, 64, 64, 64)   256         conv2d_3[0][0]                   \n",
      "__________________________________________________________________________________________________\n",
      "max_pooling2d_1 (MaxPooling2D)  (None, 32, 32, 64)   0           batch_normalization_1[0][0]      \n",
      "__________________________________________________________________________________________________\n",
      "conv2d_4 (Conv2D)               (None, 32, 32, 128)  73856       max_pooling2d_1[0][0]            \n",
      "__________________________________________________________________________________________________\n",
      "conv2d_5 (Conv2D)               (None, 32, 32, 128)  147584      conv2d_4[0][0]                   \n",
      "__________________________________________________________________________________________________\n",
      "batch_normalization_2 (BatchNor (None, 32, 32, 128)  512         conv2d_5[0][0]                   \n",
      "__________________________________________________________________________________________________\n",
      "max_pooling2d_2 (MaxPooling2D)  (None, 16, 16, 128)  0           batch_normalization_2[0][0]      \n",
      "__________________________________________________________________________________________________\n",
      "conv2d_6 (Conv2D)               (None, 16, 16, 256)  295168      max_pooling2d_2[0][0]            \n",
      "__________________________________________________________________________________________________\n",
      "conv2d_7 (Conv2D)               (None, 16, 16, 256)  590080      conv2d_6[0][0]                   \n",
      "__________________________________________________________________________________________________\n",
      "batch_normalization_3 (BatchNor (None, 16, 16, 256)  1024        conv2d_7[0][0]                   \n",
      "__________________________________________________________________________________________________\n",
      "max_pooling2d_3 (MaxPooling2D)  (None, 8, 8, 256)    0           batch_normalization_3[0][0]      \n",
      "__________________________________________________________________________________________________\n",
      "conv2d_8 (Conv2D)               (None, 8, 8, 512)    1180160     max_pooling2d_3[0][0]            \n",
      "__________________________________________________________________________________________________\n",
      "conv2d_9 (Conv2D)               (None, 8, 8, 512)    2359808     conv2d_8[0][0]                   \n",
      "__________________________________________________________________________________________________\n",
      "batch_normalization_4 (BatchNor (None, 8, 8, 512)    2048        conv2d_9[0][0]                   \n",
      "__________________________________________________________________________________________________\n",
      "conv2d_transpose (Conv2DTranspo (None, 16, 16, 256)  1179904     batch_normalization_4[0][0]      \n",
      "__________________________________________________________________________________________________\n",
      "concatenate (Concatenate)       (None, 16, 16, 512)  0           conv2d_transpose[0][0]           \n",
      "                                                                 batch_normalization_3[0][0]      \n",
      "__________________________________________________________________________________________________\n",
      "conv2d_10 (Conv2D)              (None, 16, 16, 256)  1179904     concatenate[0][0]                \n",
      "__________________________________________________________________________________________________\n",
      "conv2d_11 (Conv2D)              (None, 16, 16, 256)  590080      conv2d_10[0][0]                  \n",
      "__________________________________________________________________________________________________\n",
      "batch_normalization_5 (BatchNor (None, 16, 16, 256)  1024        conv2d_11[0][0]                  \n",
      "__________________________________________________________________________________________________\n",
      "conv2d_transpose_1 (Conv2DTrans (None, 32, 32, 128)  295040      batch_normalization_5[0][0]      \n",
      "__________________________________________________________________________________________________\n",
      "concatenate_1 (Concatenate)     (None, 32, 32, 256)  0           conv2d_transpose_1[0][0]         \n",
      "                                                                 batch_normalization_2[0][0]      \n",
      "__________________________________________________________________________________________________\n",
      "conv2d_12 (Conv2D)              (None, 32, 32, 128)  295040      concatenate_1[0][0]              \n",
      "__________________________________________________________________________________________________\n",
      "conv2d_13 (Conv2D)              (None, 32, 32, 128)  147584      conv2d_12[0][0]                  \n",
      "__________________________________________________________________________________________________\n",
      "batch_normalization_6 (BatchNor (None, 32, 32, 128)  512         conv2d_13[0][0]                  \n",
      "__________________________________________________________________________________________________\n",
      "conv2d_transpose_2 (Conv2DTrans (None, 64, 64, 64)   73792       batch_normalization_6[0][0]      \n",
      "__________________________________________________________________________________________________\n",
      "concatenate_2 (Concatenate)     (None, 64, 64, 128)  0           conv2d_transpose_2[0][0]         \n",
      "                                                                 batch_normalization_1[0][0]      \n",
      "__________________________________________________________________________________________________\n",
      "conv2d_14 (Conv2D)              (None, 64, 64, 64)   73792       concatenate_2[0][0]              \n",
      "__________________________________________________________________________________________________\n",
      "conv2d_15 (Conv2D)              (None, 64, 64, 64)   36928       conv2d_14[0][0]                  \n",
      "__________________________________________________________________________________________________\n",
      "batch_normalization_7 (BatchNor (None, 64, 64, 64)   256         conv2d_15[0][0]                  \n",
      "__________________________________________________________________________________________________\n",
      "conv2d_transpose_3 (Conv2DTrans (None, 128, 128, 32) 18464       batch_normalization_7[0][0]      \n",
      "__________________________________________________________________________________________________\n",
      "concatenate_3 (Concatenate)     (None, 128, 128, 64) 0           conv2d_transpose_3[0][0]         \n",
      "                                                                 batch_normalization[0][0]        \n",
      "__________________________________________________________________________________________________\n",
      "conv2d_16 (Conv2D)              (None, 128, 128, 32) 18464       concatenate_3[0][0]              \n",
      "__________________________________________________________________________________________________\n",
      "conv2d_17 (Conv2D)              (None, 128, 128, 32) 9248        conv2d_16[0][0]                  \n",
      "__________________________________________________________________________________________________\n",
      "batch_normalization_8 (BatchNor (None, 128, 128, 32) 128         conv2d_17[0][0]                  \n",
      "__________________________________________________________________________________________________\n",
      "conv2d_18 (Conv2D)              (None, 128, 128, 2)  66          batch_normalization_8[0][0]      \n",
      "==================================================================================================\n",
      "Total params: 8,636,418\n",
      "Trainable params: 8,633,474\n",
      "Non-trainable params: 2,944\n",
      "__________________________________________________________________________________________________\n"
     ]
    }
   ],
   "source": [
    "# Setup Unet model\n",
    "model = Model()\n",
    "model.summary()\n",
    "\n",
    "# Set Losses and Optimizers \n",
    "loss = tf.keras.losses.CategoricalCrossentropy()\n",
    "optimizer = tf.keras.optimizers.Adam()\n",
    "train_loss = tf.keras.metrics.Mean(name='train_loss')\n",
    "test_accuracy = tf.keras.metrics.CategoricalAccuracy(name='test_accuracy')"
   ]
  },
  {
   "cell_type": "markdown",
   "metadata": {},
   "source": [
    "Train model"
   ]
  },
  {
   "cell_type": "code",
   "execution_count": 9,
   "metadata": {
    "scrolled": true
   },
   "outputs": [
    {
     "name": "stdout",
     "output_type": "stream",
     "text": [
      "Epoch  0: training loss=1.75705 test accuracy=0.91617\n",
      "Epoch  1: training loss=0.35460 test accuracy=0.98287\n",
      "Epoch  2: training loss=0.23441 test accuracy=0.98769\n",
      "Epoch  3: training loss=0.22768 test accuracy=0.98708\n",
      "Epoch  4: training loss=0.18005 test accuracy=0.98906\n",
      "Epoch  5: training loss=0.17037 test accuracy=0.98868\n",
      "Epoch  6: training loss=0.16304 test accuracy=0.98892\n",
      "Epoch  7: training loss=0.14469 test accuracy=0.99070\n",
      "Epoch  8: training loss=0.14379 test accuracy=0.99158\n",
      "Epoch  9: training loss=0.13169 test accuracy=0.99156\n"
     ]
    }
   ],
   "source": [
    "epochs = range(num_epochs)\n",
    "for epoch in epochs:\n",
    "\n",
    "    for _ in range(data.batch_count(batch_size)):\n",
    "        x_train, y_train = data.next_batch(batch_size)\n",
    "        train(model, x_train, y_train)\n",
    "        test(model, data.x_test, data.y_test)\n",
    "    \n",
    "    if(epoch % display_step == 0):\n",
    "        print('Epoch %2d: training loss=%2.5f test accuracy=%2.5f' % \n",
    "            (epoch, train_loss.result(), test_accuracy.result()))\n",
    "\n",
    "    # Reset the metrics for the next epoch\n",
    "    train_loss.reset_states()\n",
    "    test_accuracy.reset_states()"
   ]
  },
  {
   "cell_type": "markdown",
   "metadata": {},
   "source": [
    "Plot Results"
   ]
  },
  {
   "cell_type": "code",
   "execution_count": 10,
   "metadata": {},
   "outputs": [],
   "source": [
    "predictions = model(data.x_test)\n",
    "\n",
    "index = 0\n",
    "input_data = data.unwhiten_img(data.x_test[index])\n",
    "truth_data = data.y_test[index][:,:,1] \n",
    "segmentation = np.greater(predictions[index,:,:,1], predictions[index,:,:,0]) * 1.0"
   ]
  },
  {
   "cell_type": "markdown",
   "metadata": {},
   "source": [
    "Show Original Image"
   ]
  },
  {
   "cell_type": "code",
   "execution_count": 11,
   "metadata": {},
   "outputs": [
    {
     "data": {
      "text/plain": [
       "<matplotlib.image.AxesImage at 0x7fee204be6d8>"
      ]
     },
     "execution_count": 11,
     "metadata": {},
     "output_type": "execute_result"
    },
    {
     "data": {
      "image/png": "[encoded data removed]",
      "text/plain": [
       "<Figure size 432x288 with 1 Axes>"
      ]
     },
     "metadata": {
      "needs_background": "light"
     },
     "output_type": "display_data"
    }
   ],
   "source": [
    "plt.imshow(input_data)"
   ]
  },
  {
   "cell_type": "markdown",
   "metadata": {},
   "source": [
    "Show Truth Data"
   ]
  },
  {
   "cell_type": "code",
   "execution_count": 12,
   "metadata": {},
   "outputs": [
    {
     "data": {
      "text/plain": [
       "<matplotlib.image.AxesImage at 0x7fee20553ac8>"
      ]
     },
     "execution_count": 12,
     "metadata": {},
     "output_type": "execute_result"
    },
    {
     "data": {
      "image/png": "[encoded data removed]",
      "text/plain": [
       "<Figure size 432x288 with 1 Axes>"
      ]
     },
     "metadata": {
      "needs_background": "light"
     },
     "output_type": "display_data"
    }
   ],
   "source": [
    "plt.imshow(truth_data, cmap='gray')"
   ]
  },
  {
   "cell_type": "markdown",
   "metadata": {},
   "source": [
    "Show Prediction Results "
   ]
  },
  {
   "cell_type": "code",
   "execution_count": 14,
   "metadata": {},
   "outputs": [
    {
     "data": {
      "text/plain": [
       "<matplotlib.image.AxesImage at 0x7fee2040dc18>"
      ]
     },
     "execution_count": 14,
     "metadata": {},
     "output_type": "execute_result"
    },
    {
     "data": {
      "image/png": "[encoded data removed]",
      "text/plain": [
       "<Figure size 432x288 with 1 Axes>"
      ]
     },
     "metadata": {
      "needs_background": "light"
     },
     "output_type": "display_data"
    }
   ],
   "source": [
    "plt.imshow(segmentation, cmap='gray')"
   ]
  },
  {
   "cell_type": "code",
   "execution_count": null,
   "metadata": {},
   "outputs": [],
   "source": []
  }
 ],
 "metadata": {
  "kernelspec": {
   "display_name": "Python 3",
   "language": "python",
   "name": "python3"
  },
  "language_info": {
   "codemirror_mode": {
    "name": "ipython",
    "version": 3
   },
   "file_extension": ".py",
   "mimetype": "text/x-python",
   "name": "python",
   "nbconvert_exporter": "python",
   "pygments_lexer": "ipython3",
   "version": "3.6.9"
  }
 },
 "nbformat": 4,
 "nbformat_minor": 2
}
