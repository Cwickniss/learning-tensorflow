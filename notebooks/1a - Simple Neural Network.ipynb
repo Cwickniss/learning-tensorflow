{
 "cells": [
  {
   "cell_type": "markdown",
   "metadata": {},
   "source": [
    "# Single Layer Neural Network Example\n",
    "\n",
    "Builds a simple neural network with TensorFlow 2.0 eager execution ([code](https://github.com/michaelmendoza/learning-tensorflow/blob/master/examples/mnist/basic-net.py))\n",
    "\n",
    "### MNIST Dataset Overview\n",
    "\n",
    "The MNIST database is a large dataset of handwritten digits used for training image processing algorthms. This data set has 50,000 training example images, and 10,000 testing images. Each image has been flatted from an array of size (28,28) to a 1-D numpy array with 784 features (28 * 28). \n",
    "\n",
    "### Code Overview\n",
    "\n",
    "1. Import Libraries\n",
    "2. Load Data\n",
    "3. Create Tensorflow Computation Graph:\n",
    "    1. Create Network Varibles and Placeholders\n",
    "    2. Create Network Architecture\n",
    "    3. Define Loss Function and Optimizer\n",
    "    4. Create Model Evalution Function\n",
    "4. Run Tensorflow Computation Graph\n",
    "    1. Initize TF Session\n",
    "    2. Train Network\n",
    "    3. Test Network\n",
    "5. Plot Accuracy Results"
   ]
  },
  {
   "cell_type": "markdown",
   "metadata": {},
   "source": [
    "## Example Code\n",
    "\n",
    "import libraries"
   ]
  },
  {
   "cell_type": "code",
   "execution_count": 1,
   "metadata": {},
   "outputs": [],
   "source": [
    "from __future__ import absolute_import, division, print_function\n",
    "import os\n",
    "os.environ['TF_CPP_MIN_LOG_LEVEL'] = '2'\n",
    "\n",
    "import numpy as np\n",
    "import tensorflow as tf\n",
    "import matplotlib.pyplot as plt"
   ]
  },
  {
   "cell_type": "markdown",
   "metadata": {},
   "source": [
    "Set training and network parameters"
   ]
  },
  {
   "cell_type": "code",
   "execution_count": 2,
   "metadata": {},
   "outputs": [],
   "source": [
    "# Training Parameters\n",
    "learning_rate = 0.1\n",
    "num_epochs = 100\n",
    "display_step = 10\n",
    "\n",
    "# Network Parameters\n",
    "NUM_INPUTS = 784\n",
    "NUM_OUTPUTS = 10"
   ]
  },
  {
   "cell_type": "markdown",
   "metadata": {},
   "source": [
    "Import mnist data and preprocess data"
   ]
  },
  {
   "cell_type": "code",
   "execution_count": 3,
   "metadata": {},
   "outputs": [],
   "source": [
    "# Import Dataset\n",
    "mnist = tf.keras.datasets.mnist\n",
    "(x_train, y_train),(x_test, y_test) = mnist.load_data()\n",
    "x_train, x_test = x_train / 255.0, x_test / 255.0\n",
    "y_train = tf.keras.utils.to_categorical(y_train).astype(np.float32)\n",
    "y_test = tf.keras.utils.to_categorical(y_test).astype(np.float32)\n",
    "x_train = x_train.reshape(-1, NUM_INPUTS).astype(np.float32)\n",
    "x_test = x_test.reshape (-1, NUM_INPUTS).astype(np.float32)"
   ]
  },
  {
   "cell_type": "markdown",
   "metadata": {},
   "source": [
    "Define model"
   ]
  },
  {
   "cell_type": "code",
   "execution_count": 4,
   "metadata": {},
   "outputs": [],
   "source": [
    "class Model(object):\n",
    "    def __init__(self):\n",
    "        self.W = tf.Variable(tf.zeros([NUM_INPUTS, NUM_OUTPUTS]), dtype=tf.float32) # Weights for layer\n",
    "        self.b = tf.Variable(tf.zeros([NUM_OUTPUTS]), dtype=tf.float32)             # Bias for layer\n",
    "\n",
    "    def __call__(self, x):\n",
    "        return tf.nn.softmax(tf.matmul(x, self.W) + self.b)"
   ]
  },
  {
   "cell_type": "markdown",
   "metadata": {},
   "source": [
    "Define loss function"
   ]
  },
  {
   "cell_type": "code",
   "execution_count": 5,
   "metadata": {},
   "outputs": [],
   "source": [
    "@tf.function\n",
    "def loss(y, y_target):\n",
    "    return tf.reduce_mean(-tf.reduce_sum(y_target * tf.math.log(y), axis=[1]))"
   ]
  },
  {
   "cell_type": "markdown",
   "metadata": {},
   "source": [
    "Define accuracy"
   ]
  },
  {
   "cell_type": "code",
   "execution_count": 6,
   "metadata": {},
   "outputs": [],
   "source": [
    "@tf.function\n",
    "def accuracy(y, y_target):\n",
    "    correct_prediction = tf.equal(tf.argmax(y,1), tf.argmax(y_target,1))\n",
    "    return tf.reduce_mean(tf.cast(correct_prediction, tf.float32))  "
   ]
  },
  {
   "cell_type": "markdown",
   "metadata": {},
   "source": [
    "Define training step"
   ]
  },
  {
   "cell_type": "code",
   "execution_count": 7,
   "metadata": {},
   "outputs": [],
   "source": [
    "def train(model, inputs, outputs, learning_rate):\n",
    "    with tf.GradientTape() as t:\n",
    "        current_loss = loss(model(inputs), outputs)\n",
    "    dW, db = t.gradient(current_loss, [model.W, model.b])\n",
    "    model.W.assign_sub(learning_rate * dW)\n",
    "    model.b.assign_sub(learning_rate * db)\n",
    "    return current_loss"
   ]
  },
  {
   "cell_type": "markdown",
   "metadata": {},
   "source": [
    "Define test step"
   ]
  },
  {
   "cell_type": "code",
   "execution_count": 8,
   "metadata": {},
   "outputs": [],
   "source": [
    "@tf.function\n",
    "def test(model, inputs, outputs):\n",
    "    predictions = model(inputs)\n",
    "    accuracy(outputs, predictions)"
   ]
  },
  {
   "cell_type": "markdown",
   "metadata": {},
   "source": [
    "Create model instance"
   ]
  },
  {
   "cell_type": "code",
   "execution_count": 9,
   "metadata": {},
   "outputs": [],
   "source": [
    "model = Model()"
   ]
  },
  {
   "cell_type": "markdown",
   "metadata": {},
   "source": [
    "Train model"
   ]
  },
  {
   "cell_type": "code",
   "execution_count": 10,
   "metadata": {},
   "outputs": [
    {
     "name": "stdout",
     "output_type": "stream",
     "text": [
      "Epoch  0: training loss=2.30259 test accuracy=0.68080\n",
      "Epoch 10: training loss=1.54632 test accuracy=0.79380\n",
      "Epoch 20: training loss=1.18615 test accuracy=0.81970\n",
      "Epoch 30: training loss=0.99335 test accuracy=0.83490\n",
      "Epoch 40: training loss=0.87549 test accuracy=0.84280\n",
      "Epoch 50: training loss=0.79597 test accuracy=0.85090\n",
      "Epoch 60: training loss=0.73844 test accuracy=0.85690\n",
      "Epoch 70: training loss=0.69469 test accuracy=0.86210\n",
      "Epoch 80: training loss=0.66014 test accuracy=0.86540\n",
      "Epoch 90: training loss=0.63206 test accuracy=0.86810\n"
     ]
    }
   ],
   "source": [
    "# Train model and collect accuracy for plotting \n",
    "data = []\n",
    "epochs = range(num_epochs)\n",
    "for epoch in epochs:\n",
    "    current_loss =  train(model, x_train, y_train, learning_rate=0.1)\n",
    "    acc = accuracy(model(x_test), y_test)\n",
    "    data.append([epoch, acc])\n",
    "\n",
    "   \n",
    "\n",
    "    if(epoch % display_step == 0):\n",
    "        print('Epoch %2d: training loss=%2.5f test accuracy=%2.5f' % (epoch, current_loss, acc))\n"
   ]
  },
  {
   "cell_type": "markdown",
   "metadata": {},
   "source": [
    "Plot Model Accuracy"
   ]
  },
  {
   "cell_type": "code",
   "execution_count": 11,
   "metadata": {},
   "outputs": [
    {
     "data": {
      "image/png": "[encoded data removed]",
      "text/plain": [
       "<Figure size 432x288 with 1 Axes>"
      ]
     },
     "metadata": {
      "needs_background": "light"
     },
     "output_type": "display_data"
    }
   ],
   "source": [
    "# Plot Accuracy\n",
    "data = np.array(data)\n",
    "plt.plot(data.T[0], data.T[1], label=\"test accuracy\")\n",
    "plt.xlabel(\"Steps\")\n",
    "plt.ylabel(\"Accuracy\")\n",
    "plt.title(\"Accuracy for MINST Classification\")\n",
    "plt.show()"
   ]
  },
  {
   "cell_type": "code",
   "execution_count": null,
   "metadata": {},
   "outputs": [],
   "source": []
  }
 ],
 "metadata": {
  "kernelspec": {
   "display_name": "Python 3",
   "language": "python",
   "name": "python3"
  },
  "language_info": {
   "codemirror_mode": {
    "name": "ipython",
    "version": 3
   },
   "file_extension": ".py",
   "mimetype": "text/x-python",
   "name": "python",
   "nbconvert_exporter": "python",
   "pygments_lexer": "ipython3",
   "version": "3.6.9"
  }
 },
 "nbformat": 4,
 "nbformat_minor": 2
}
