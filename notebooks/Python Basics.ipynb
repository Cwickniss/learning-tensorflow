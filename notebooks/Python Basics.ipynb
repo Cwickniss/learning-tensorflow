{
 "cells": [
  {
   "cell_type": "markdown",
   "metadata": {},
   "source": [
    "# Python Basics \n",
    "\n",
    "Why would you want to use Python over Matlab?\n",
    "1. Python is free!\n",
    "2. Python is a general purpose programming langage\n",
    "3. Python has a wealth of useful third party open source libaries\n",
    "4. Python can replicate all the behavior of MATLAB using Numpy, Scipy, and Matplotlib\n",
    "5. It's easy to add third party open source libraries\n"
   ]
  },
  {
   "cell_type": "markdown",
   "metadata": {},
   "source": [
    "## Varibles\n",
    "\n",
    "In python is easy to define a variable. Let's try it:"
   ]
  },
  {
   "cell_type": "code",
   "execution_count": null,
   "metadata": {
    "collapsed": true
   },
   "outputs": [],
   "source": [
    "one = 1"
   ]
  },
  {
   "cell_type": "markdown",
   "metadata": {},
   "source": [
    "There you go! You just assigned '1' to the variable called one.\n",
    "\n",
    "Python supports a number of data types that you can use. These include\n",
    "int, float, strings, boolearns, etc. "
   ]
  },
  {
   "cell_type": "code",
   "execution_count": null,
   "metadata": {
    "collapsed": true
   },
   "outputs": [],
   "source": [
    "a = 5                  # A number (int)\n",
    "b = 5.0                # A number (float)\n",
    "c = [1,2,3]            # A list\n",
    "d = 'This is a string' # A string\n",
    "e = True               # Boolean (True)\n",
    "f = False              # Boolean (False)"
   ]
  },
  {
   "cell_type": "markdown",
   "metadata": {},
   "source": [
    "## If/Else Statements"
   ]
  },
  {
   "cell_type": "code",
   "execution_count": 5,
   "metadata": {
    "collapsed": false
   },
   "outputs": [
    {
     "name": "stdout",
     "output_type": "stream",
     "text": [
      "This is a true statement\n",
      "It's off!\n",
      "3\n"
     ]
    }
   ],
   "source": [
    "# If\n",
    "if True:\n",
    "    print('This is a true statement')\n",
    "\n",
    "# Else If\n",
    "isOn = False\n",
    "if isOn:\n",
    "    print(\"It's on!\")\n",
    "else:\n",
    "    print(\"It's off!\")\n",
    "    \n",
    "# If + Else If + Else\n",
    "a = '1'\n",
    "if a == 1:\n",
    "    print('1')\n",
    "elif a == 2:\n",
    "    print('2')\n",
    "else:\n",
    "    print('3')"
   ]
  },
  {
   "cell_type": "markdown",
   "metadata": {},
   "source": [
    "## For loop"
   ]
  },
  {
   "cell_type": "code",
   "execution_count": 8,
   "metadata": {
    "collapsed": false
   },
   "outputs": [
    {
     "name": "stdout",
     "output_type": "stream",
     "text": [
      "1\n",
      "2\n",
      "3\n"
     ]
    }
   ],
   "source": [
    "for _ in [1,2,3]:\n",
    "    print(_)"
   ]
  },
  {
   "cell_type": "code",
   "execution_count": 10,
   "metadata": {
    "collapsed": false
   },
   "outputs": [
    {
     "name": "stdout",
     "output_type": "stream",
     "text": [
      "0\n",
      "1\n",
      "2\n",
      "3\n",
      "4\n",
      "5\n",
      "6\n",
      "7\n",
      "8\n",
      "9\n"
     ]
    }
   ],
   "source": [
    "for _ in range(10):\n",
    "    print(_)"
   ]
  },
  {
   "cell_type": "markdown",
   "metadata": {},
   "source": [
    "## Lists"
   ]
  },
  {
   "cell_type": "code",
   "execution_count": 13,
   "metadata": {
    "collapsed": false
   },
   "outputs": [
    {
     "name": "stdout",
     "output_type": "stream",
     "text": [
      "[0, 1, 2, 3, 4, 5, 6, 7, 8, 9]\n",
      "[[1, 2], [3, 4]]\n",
      "1\n"
     ]
    }
   ],
   "source": [
    "list = []\n",
    "\n",
    "for _ in range(10):\n",
    "    list.append(_)\n",
    "    \n",
    "print(list)\n",
    "\n",
    "# Multi-dimensional List\n",
    "mlist = [[1,2],[3,4]]\n",
    "print(mlist)\n",
    "\n",
    "# Access element in list\n",
    "print(mlist[0][0])\n"
   ]
  },
  {
   "cell_type": "markdown",
   "metadata": {},
   "source": [
    "## List comprehension"
   ]
  },
  {
   "cell_type": "code",
   "execution_count": 17,
   "metadata": {
    "collapsed": false
   },
   "outputs": [
    {
     "name": "stdout",
     "output_type": "stream",
     "text": [
      "[0, 1, 2, 3, 4, 5, 6, 7, 8, 9]\n"
     ]
    }
   ],
   "source": [
    "list = [_ for _ in range(10)]\n",
    "print(list)"
   ]
  },
  {
   "cell_type": "code",
   "execution_count": 18,
   "metadata": {
    "collapsed": false
   },
   "outputs": [
    {
     "name": "stdout",
     "output_type": "stream",
     "text": [
      "[[0, 1, 2, 3, 4, 5, 6, 7, 8, 9], [0, 1, 2, 3, 4, 5, 6, 7, 8, 9], [0, 1, 2, 3, 4, 5, 6, 7, 8, 9], [0, 1, 2, 3, 4, 5, 6, 7, 8, 9], [0, 1, 2, 3, 4, 5, 6, 7, 8, 9], [0, 1, 2, 3, 4, 5, 6, 7, 8, 9], [0, 1, 2, 3, 4, 5, 6, 7, 8, 9], [0, 1, 2, 3, 4, 5, 6, 7, 8, 9], [0, 1, 2, 3, 4, 5, 6, 7, 8, 9], [0, 1, 2, 3, 4, 5, 6, 7, 8, 9]]\n"
     ]
    }
   ],
   "source": [
    "list = [[i for i in range(10)] for j in range(10)]\n",
    "print(list)"
   ]
  },
  {
   "cell_type": "markdown",
   "metadata": {},
   "source": [
    "## Dictionaries\n",
    "\n",
    "Dictionaries are simply a collection of key/value pairs."
   ]
  },
  {
   "cell_type": "code",
   "execution_count": 19,
   "metadata": {
    "collapsed": false
   },
   "outputs": [
    {
     "name": "stdout",
     "output_type": "stream",
     "text": [
      "('age', 26)\n",
      "('id', 10)\n",
      "('name', 'Jane')\n"
     ]
    }
   ],
   "source": [
    "dict = { \n",
    "         \"id\": 10, \n",
    "         \"name\" : \"Jane\",\n",
    "         \"age\" : 26\n",
    "       }\n",
    "\n",
    "for key in dict:\n",
    "    print(key, dict[key])\n"
   ]
  },
  {
   "cell_type": "markdown",
   "metadata": {},
   "source": [
    "To add a new item to the dictionaries simply do the following"
   ]
  },
  {
   "cell_type": "code",
   "execution_count": 20,
   "metadata": {
    "collapsed": false
   },
   "outputs": [
    {
     "name": "stdout",
     "output_type": "stream",
     "text": [
      "(1, 1)\n",
      "('age', 26)\n",
      "('id', 10)\n",
      "('name', 'Jane')\n"
     ]
    }
   ],
   "source": [
    "dict[1] = 1\n",
    "\n",
    "for key in dict:\n",
    "    print(key, dict[key])"
   ]
  },
  {
   "cell_type": "markdown",
   "metadata": {},
   "source": [
    "Dictionaries are useful for speeding up computation by using them as a Look Up Table (LUT). Takes take the example of computing sum(sin(N) * sin(N)) to see how we can use dictionaries to speed computation. This is also known as a form of dynamic programming."
   ]
  },
  {
   "cell_type": "code",
   "execution_count": 22,
   "metadata": {
    "collapsed": false
   },
   "outputs": [
    {
     "name": "stdout",
     "output_type": "stream",
     "text": [
      "('Result with Dict', 5000000.034065164, ' Computed in: ', 3.8987338542938232)\n",
      "('Result with Sin', 5000000.034065164, ' Computed in: ', 5.490542888641357)\n"
     ]
    }
   ],
   "source": [
    "import math\n",
    "import time\n",
    "\n",
    "N = 10000000\n",
    "\n",
    "# Create dictionary of values for sin(N)\n",
    "compute = {}\n",
    "for _ in range(N):\n",
    "    compute[_] = math.sin(_)\n",
    "\n",
    "# Compute sin(N) * sin(N) using LUT\n",
    "start_time = time.time()\n",
    "result = 0\n",
    "for _ in range(N):\n",
    "    result += compute[_] * compute[_]\n",
    "time_elapsed = time.time() - start_time\n",
    "    \n",
    "# Compute sin(N) * sin(N)\n",
    "start_time = time.time()    \n",
    "result2 = 0;\n",
    "for _ in range(N):\n",
    "    result2 += math.sin(_) * math.sin(_)\n",
    "time_elapsed2 = time.time() - start_time\n",
    "\n",
    "print(\"Result with Dict\", result, \" Computed in: \", time_elapsed);\n",
    "print(\"Result with Sin\", result2, \" Computed in: \", time_elapsed2); "
   ]
  },
  {
   "cell_type": "markdown",
   "metadata": {},
   "source": [
    "## Functions and Classes\n",
    "\n",
    "Functions and Classes are useful for organizing and structuring code. They are used to make go portable, reusable, and clean."
   ]
  },
  {
   "cell_type": "markdown",
   "metadata": {},
   "source": [
    "In python we define function with the 'def' keyword"
   ]
  },
  {
   "cell_type": "code",
   "execution_count": 24,
   "metadata": {
    "collapsed": false
   },
   "outputs": [
    {
     "name": "stdout",
     "output_type": "stream",
     "text": [
      "3\n"
     ]
    }
   ],
   "source": [
    "def add_and_print(arg0, arg1):\n",
    "    print(arg0 + arg1)\n",
    "\n",
    "add_and_print(1,2)"
   ]
  },
  {
   "cell_type": "code",
   "execution_count": 26,
   "metadata": {
    "collapsed": false
   },
   "outputs": [
    {
     "name": "stdout",
     "output_type": "stream",
     "text": [
      "10\n"
     ]
    }
   ],
   "source": [
    "def add_and_print(arg0 = 0, arg1 = 10):\n",
    "    print(arg0 + arg1)\n",
    "\n",
    "add_and_print()"
   ]
  },
  {
   "cell_type": "code",
   "execution_count": 32,
   "metadata": {
    "collapsed": false
   },
   "outputs": [
    {
     "name": "stdout",
     "output_type": "stream",
     "text": [
      "(3.141592653589793, 100, 100, 1, 2, 3.141592653589793)\n"
     ]
    }
   ],
   "source": [
    "import math\n",
    "def SSFP(alpha = math.pi, T1 = 100, T2=100, TE=0.5, TR=1, dpi=math.pi):\n",
    "    print(alpha, T1, T2, TE, TR, dpi)\n",
    "    \n",
    "SSFP(math.pi, TR = 2, TE=1)"
   ]
  },
  {
   "cell_type": "markdown",
   "metadata": {},
   "source": [
    "Let's make a simple class to orgainize our computation code we need earlier"
   ]
  },
  {
   "cell_type": "code",
   "execution_count": 53,
   "metadata": {
    "collapsed": false
   },
   "outputs": [],
   "source": [
    "class Compute:\n",
    "    def __init__(self, N = 10):\n",
    "        self.N = N\n",
    "        self.n2, self.two_n = self.compute()\n",
    "        self._print()\n",
    "        \n",
    "    def compute(self):\n",
    "        return self.N * self.N, 2 * self.N\n",
    "    \n",
    "    def _print(self):\n",
    "        print(\"Test\", self.N, self.n2, self.two_n)"
   ]
  },
  {
   "cell_type": "code",
   "execution_count": 54,
   "metadata": {
    "collapsed": false
   },
   "outputs": [
    {
     "name": "stdout",
     "output_type": "stream",
     "text": [
      "('Test', 5, 25, 10)\n"
     ]
    }
   ],
   "source": [
    "c = Compute(5)"
   ]
  },
  {
   "cell_type": "code",
   "execution_count": 56,
   "metadata": {
    "collapsed": false
   },
   "outputs": [
    {
     "name": "stdout",
     "output_type": "stream",
     "text": [
      "(25, 10)\n"
     ]
    }
   ],
   "source": [
    "n2, two_n = c.compute()\n",
    "print(n2, two_n)"
   ]
  },
  {
   "cell_type": "markdown",
   "metadata": {},
   "source": [
    "# Numpy/Matplotlib"
   ]
  },
  {
   "cell_type": "code",
   "execution_count": 57,
   "metadata": {
    "collapsed": false
   },
   "outputs": [
    {
     "data": {
      "image/png": "[encoded data removed]",
      "text/plain": [
       "<Figure size 600x400 with 1 Axes>"
      ]
     },
     "metadata": {},
     "output_type": "display_data"
    }
   ],
   "source": [
    "import numpy as np\n",
    "import matplotlib.pyplot as plt\n",
    "\n",
    "x = np.linspace(0, 10, 100)\n",
    "y = np.sin(x)\n",
    "\n",
    "%matplotlib inline\n",
    "plt.plot(x,y)\n",
    "plt.show()\n"
   ]
  },
  {
   "cell_type": "code",
   "execution_count": 63,
   "metadata": {
    "collapsed": false
   },
   "outputs": [
    {
     "data": {
      "image/png": "[encoded data removed]",
      "text/plain": [
       "<Figure size 600x400 with 1 Axes>"
      ]
     },
     "metadata": {},
     "output_type": "display_data"
    }
   ],
   "source": [
    "M = 128; N = 128\n",
    "x = np.zeros((M, N))\n",
    "\n",
    "plt.imshow(x)\n",
    "plt.show()"
   ]
  },
  {
   "cell_type": "code",
   "execution_count": 80,
   "metadata": {
    "collapsed": false
   },
   "outputs": [
    {
     "data": {
      "image/png": "[encoded data removed]",
      "text/plain": [
       "<Figure size 600x400 with 1 Axes>"
      ]
     },
     "metadata": {},
     "output_type": "display_data"
    }
   ],
   "source": [
    "_ = np.linspace(0, 10, N)\n",
    "x = np.reshape(_, (N, 1))\n",
    "x = x * np.transpose(x)\n",
    "plt.imshow(x)\n",
    "plt.show() \n",
    "\n"
   ]
  },
  {
   "cell_type": "code",
   "execution_count": 83,
   "metadata": {
    "collapsed": false
   },
   "outputs": [
    {
     "name": "stdout",
     "output_type": "stream",
     "text": [
      "10\n",
      "[0 1 2 3 4 5 6 7 8 9]\n",
      "(10,)\n"
     ]
    }
   ],
   "source": [
    "list = range(10)\n",
    "print(len(list))\n",
    "\n",
    "npList = np.array(list)\n",
    "print(npList)\n",
    "print(npList.shape)"
   ]
  },
  {
   "cell_type": "code",
   "execution_count": null,
   "metadata": {
    "collapsed": true
   },
   "outputs": [],
   "source": []
  }
 ],
 "metadata": {
  "kernelspec": {
   "display_name": "Python 2",
   "language": "python",
   "name": "python2"
  },
  "language_info": {
   "codemirror_mode": {
    "name": "ipython",
    "version": 2
   },
   "file_extension": ".py",
   "mimetype": "text/x-python",
   "name": "python",
   "nbconvert_exporter": "python",
   "pygments_lexer": "ipython2",
   "version": "2.7.12"
  }
 },
 "nbformat": 4,
 "nbformat_minor": 2
}
