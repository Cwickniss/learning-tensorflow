{
 "cells": [
  {
   "cell_type": "markdown",
   "metadata": {},
   "source": [
    "# Python Basics \n",
    "\n",
    "Why would you want to use Python over Matlab?\n",
    "1. Python is free!\n",
    "2. Python is a general purpose programming langage\n",
    "3. Python has a wealth of useful third party open source libaries\n",
    "4. Python can replicate all the behavior of MATLAB using Numpy, Scipy, and Matplotlib\n",
    "5. It's easy to add third party open source libraries\n"
   ]
  },
  {
   "cell_type": "markdown",
   "metadata": {},
   "source": [
    "## Varibles\n",
    "\n",
    "In python is easy to define a variable. Let's try it:"
   ]
  },
  {
   "cell_type": "code",
   "execution_count": 2,
   "metadata": {},
   "outputs": [],
   "source": [
    "one = 1"
   ]
  },
  {
   "cell_type": "markdown",
   "metadata": {},
   "source": [
    "There you go! You just assigned '1' to the variable called one.\n",
    "\n",
    "Python supports a number of data types that you can use. These include\n",
    "int, float, strings, boolearns, etc. "
   ]
  },
  {
   "cell_type": "code",
   "execution_count": 3,
   "metadata": {},
   "outputs": [],
   "source": [
    "a = 5                  # A number (int)\n",
    "b = 5.0                # A number (float)\n",
    "c = [1,2,3]            # A list\n",
    "d = 'This is a string' # A string\n",
    "e = True               # Boolean (True)\n",
    "f = False              # Boolean (False)"
   ]
  },
  {
   "cell_type": "markdown",
   "metadata": {},
   "source": [
    "## If/Else Statements"
   ]
  },
  {
   "cell_type": "code",
   "execution_count": 5,
   "metadata": {},
   "outputs": [
    {
     "name": "stdout",
     "output_type": "stream",
     "text": [
      "This is a true statement\n",
      "It's off!\n"
     ]
    }
   ],
   "source": [
    "if True:\n",
    "    print('This is a true statement')\n",
    "\n",
    "isOn = False\n",
    "if isOn:\n",
    "    print(\"It's on!\")\n",
    "else:\n",
    "    print(\"It's off!\")"
   ]
  },
  {
   "cell_type": "markdown",
   "metadata": {},
   "source": [
    "## For loop"
   ]
  },
  {
   "cell_type": "code",
   "execution_count": 6,
   "metadata": {},
   "outputs": [
    {
     "name": "stdout",
     "output_type": "stream",
     "text": [
      "0\n",
      "1\n",
      "2\n",
      "3\n",
      "4\n",
      "5\n",
      "6\n",
      "7\n",
      "8\n",
      "9\n"
     ]
    }
   ],
   "source": [
    "for _ in range(10):\n",
    "    print(_)"
   ]
  },
  {
   "cell_type": "markdown",
   "metadata": {},
   "source": [
    "## Lists"
   ]
  },
  {
   "cell_type": "code",
   "execution_count": 7,
   "metadata": {},
   "outputs": [
    {
     "name": "stdout",
     "output_type": "stream",
     "text": [
      "[0, 1, 2, 3, 4, 5, 6, 7, 8, 9]\n"
     ]
    }
   ],
   "source": [
    "list = []\n",
    "\n",
    "for _ in range(10):\n",
    "    list.append(_)\n",
    "    \n",
    "print(list)\n"
   ]
  },
  {
   "cell_type": "markdown",
   "metadata": {},
   "source": [
    "## List comprehension"
   ]
  },
  {
   "cell_type": "code",
   "execution_count": 8,
   "metadata": {},
   "outputs": [
    {
     "name": "stdout",
     "output_type": "stream",
     "text": [
      "[0, 1, 2, 3, 4, 5, 6, 7, 8, 9]\n"
     ]
    }
   ],
   "source": [
    "list = [_ for _ in range(10)]\n",
    "print(list)"
   ]
  },
  {
   "cell_type": "markdown",
   "metadata": {},
   "source": [
    "## Dictionaries\n",
    "\n",
    "Dictionaries are simply a collection of key/value pairs."
   ]
  },
  {
   "cell_type": "code",
   "execution_count": 19,
   "metadata": {},
   "outputs": [
    {
     "name": "stdout",
     "output_type": "stream",
     "text": [
      "id 10\n",
      "name Jane\n",
      "age 26\n",
      "1\n",
      "id 10\n",
      "name Jane\n",
      "age 26\n",
      "1 1\n"
     ]
    }
   ],
   "source": [
    "dict = { \n",
    "        \"id\": 10, \n",
    "         \"name\" : \"Jane\",\n",
    "         \"age\" : 26\n",
    "       }\n",
    "\n",
    "for key in dict:\n",
    "    print(key, dict[key])\n",
    "    \n"
   ]
  },
  {
   "cell_type": "markdown",
   "metadata": {},
   "source": [
    "To add a new item to the dictionaries simply do the following"
   ]
  },
  {
   "cell_type": "code",
   "execution_count": 20,
   "metadata": {},
   "outputs": [
    {
     "name": "stdout",
     "output_type": "stream",
     "text": [
      "id 10\n",
      "name Jane\n",
      "age 26\n",
      "1 1\n"
     ]
    }
   ],
   "source": [
    "dict[1] = 1\n",
    "\n",
    "for key in dict:\n",
    "    print(key, dict[key])"
   ]
  },
  {
   "cell_type": "markdown",
   "metadata": {},
   "source": [
    "Dictionaries are useful for speeding up computation by using them as a Look Up Table (LUT). Takes take the example of computing sin(N) * sin(N) to see how we can use dictionaries to speed computation. This is also known as a form of dynamic programming."
   ]
  },
  {
   "cell_type": "code",
   "execution_count": 35,
   "metadata": {},
   "outputs": [
    {
     "name": "stdout",
     "output_type": "stream",
     "text": [
      "Result with Dict 5000000.034065164  Computed in:  1.8480541706085205\n",
      "Result with Sin 5000000.034065164  Computed in:  3.122673511505127\n"
     ]
    }
   ],
   "source": [
    "import math\n",
    "import time\n",
    "\n",
    "N = 10000000\n",
    "compute = {}\n",
    "for _ in range(N):\n",
    "    compute[_] = math.sin(_)\n",
    "\n",
    "    \n",
    "# Compute sin(N) * sin(N)\n",
    "start_time = time.time()\n",
    "result = 0\n",
    "for _ in range(N):\n",
    "    result += compute[_] * compute[_]\n",
    "time_elapsed = time.time() - start_time\n",
    "    \n",
    "start_time = time.time()    \n",
    "result2 = 0;\n",
    "for _ in range(N):\n",
    "    result2 += math.sin(_) * math.sin(_)\n",
    "time_elapsed2 = time.time() - start_time\n",
    "\n",
    "print(\"Result with Dict\", result, \" Computed in: \", time_elapsed);\n",
    "print(\"Result with Sin\", result2, \" Computed in: \", time_elapsed2);"
   ]
  },
  {
   "cell_type": "markdown",
   "metadata": {},
   "source": [
    "## Functions and Classes\n",
    "\n",
    "Functions and Classes are useful for organizing and structuring code. They are used to make go portable, reusable, and clean."
   ]
  },
  {
   "cell_type": "markdown",
   "metadata": {},
   "source": [
    "In python we define function with the 'def' keyword"
   ]
  },
  {
   "cell_type": "code",
   "execution_count": 36,
   "metadata": {},
   "outputs": [
    {
     "name": "stdout",
     "output_type": "stream",
     "text": [
      "3\n"
     ]
    }
   ],
   "source": [
    "def add_and_print(arg0, arg1):\n",
    "    print(arg0 + arg1)\n",
    "\n",
    "add_and_print(1,2)"
   ]
  },
  {
   "cell_type": "markdown",
   "metadata": {},
   "source": [
    "Let's make a simple class to orgainize our computation code we need earlier"
   ]
  },
  {
   "cell_type": "code",
   "execution_count": 38,
   "metadata": {},
   "outputs": [],
   "source": [
    "class Compute:\n",
    "    def __init__(self):\n",
    "        pass\n",
    "    def compute():\n",
    "        pass\n",
    "    def print():\n",
    "        pass"
   ]
  },
  {
   "cell_type": "code",
   "execution_count": null,
   "metadata": {},
   "outputs": [],
   "source": [
    "class Compute:\n",
    "    def __init__(self):\n",
    "        self.compute()\n",
    "        self.print()\n",
    "        \n",
    "    def compute():\n",
    "        pass\n",
    "    \n",
    "    def print():\n",
    "        pass"
   ]
  }
 ],
 "metadata": {
  "kernelspec": {
   "display_name": "Python 3",
   "language": "python",
   "name": "python3"
  },
  "language_info": {
   "codemirror_mode": {
    "name": "ipython",
    "version": 3
   },
   "file_extension": ".py",
   "mimetype": "text/x-python",
   "name": "python",
   "nbconvert_exporter": "python",
   "pygments_lexer": "ipython3",
   "version": "3.6.6"
  }
 },
 "nbformat": 4,
 "nbformat_minor": 2
}
